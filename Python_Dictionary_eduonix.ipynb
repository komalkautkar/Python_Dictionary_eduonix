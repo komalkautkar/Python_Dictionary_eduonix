{
 "cells": [
  {
   "cell_type": "code",
   "execution_count": 1,
   "id": "02de8985",
   "metadata": {},
   "outputs": [
    {
     "data": {
      "text/plain": [
       "{'Name': 'Komal', 'Age': 30, 'Salary': 32000, 'Company': 'Synechron'}"
      ]
     },
     "execution_count": 1,
     "metadata": {},
     "output_type": "execute_result"
    }
   ],
   "source": [
    "Employee={\"Name\":\"Komal\",\"Age\":30,\"Salary\":32000,\"Company\":\"Synechron\"}\n",
    "Employee"
   ]
  },
  {
   "cell_type": "code",
   "execution_count": 2,
   "id": "53a639ee",
   "metadata": {},
   "outputs": [
    {
     "data": {
      "text/plain": [
       "dict"
      ]
     },
     "execution_count": 2,
     "metadata": {},
     "output_type": "execute_result"
    }
   ],
   "source": [
    "type(Employee)"
   ]
  },
  {
   "cell_type": "code",
   "execution_count": 3,
   "id": "29ded960",
   "metadata": {},
   "outputs": [
    {
     "ename": "KeyError",
     "evalue": "0",
     "output_type": "error",
     "traceback": [
      "\u001b[1;31m---------------------------------------------------------------------------\u001b[0m",
      "\u001b[1;31mKeyError\u001b[0m                                  Traceback (most recent call last)",
      "Cell \u001b[1;32mIn[3], line 1\u001b[0m\n\u001b[1;32m----> 1\u001b[0m Employee[\u001b[38;5;241m0\u001b[39m]\n",
      "\u001b[1;31mKeyError\u001b[0m: 0"
     ]
    }
   ],
   "source": [
    "Employee[0]"
   ]
  },
  {
   "cell_type": "code",
   "execution_count": null,
   "id": "880a031f",
   "metadata": {},
   "outputs": [],
   "source": [
    "###NOTE:In Dictionary there is no Index, like list,tuple or array"
   ]
  },
  {
   "cell_type": "code",
   "execution_count": 5,
   "id": "37b8e0db",
   "metadata": {},
   "outputs": [
    {
     "data": {
      "text/plain": [
       "30"
      ]
     },
     "execution_count": 5,
     "metadata": {},
     "output_type": "execute_result"
    }
   ],
   "source": [
    "Employee[\"Age\"]"
   ]
  },
  {
   "cell_type": "code",
   "execution_count": 6,
   "id": "c857d1e5",
   "metadata": {},
   "outputs": [
    {
     "data": {
      "text/plain": [
       "'Synechron'"
      ]
     },
     "execution_count": 6,
     "metadata": {},
     "output_type": "execute_result"
    }
   ],
   "source": [
    "Employee[\"Company\"]"
   ]
  },
  {
   "cell_type": "code",
   "execution_count": 7,
   "id": "f37fd28d",
   "metadata": {},
   "outputs": [
    {
     "ename": "KeyError",
     "evalue": "30",
     "output_type": "error",
     "traceback": [
      "\u001b[1;31m---------------------------------------------------------------------------\u001b[0m",
      "\u001b[1;31mKeyError\u001b[0m                                  Traceback (most recent call last)",
      "Cell \u001b[1;32mIn[7], line 1\u001b[0m\n\u001b[1;32m----> 1\u001b[0m Employee[\u001b[38;5;241m30\u001b[39m]\n",
      "\u001b[1;31mKeyError\u001b[0m: 30"
     ]
    }
   ],
   "source": [
    "Employee[30]"
   ]
  },
  {
   "cell_type": "code",
   "execution_count": 4,
   "id": "0110c4ad",
   "metadata": {},
   "outputs": [
    {
     "data": {
      "text/plain": [
       "{'Age': 30, 'Salary': 32000, 'Company': 'Synechron'}"
      ]
     },
     "execution_count": 4,
     "metadata": {},
     "output_type": "execute_result"
    }
   ],
   "source": [
    "del Employee[\"Name\"]\n",
    "Employee\n"
   ]
  },
  {
   "cell_type": "code",
   "execution_count": null,
   "id": "c2c93774",
   "metadata": {},
   "outputs": [],
   "source": [
    "###I want to add Name:Komal again?how can do that?\n"
   ]
  },
  {
   "cell_type": "code",
   "execution_count": 8,
   "id": "ccb6f7a2",
   "metadata": {},
   "outputs": [
    {
     "data": {
      "text/plain": [
       "{'Age': 30, 'Salary': 32000, 'Company': 'Synechron', 'Name': 'komal'}"
      ]
     },
     "execution_count": 8,
     "metadata": {},
     "output_type": "execute_result"
    }
   ],
   "source": [
    "Employee[\"Name\"]=\"komal\"\n",
    "Employee"
   ]
  },
  {
   "cell_type": "code",
   "execution_count": 9,
   "id": "8f217a1a",
   "metadata": {},
   "outputs": [
    {
     "data": {
      "text/plain": [
       "{'Age': 30,\n",
       " 'Salary': 32000,\n",
       " 'Company': 'Synechron',\n",
       " 'Name': 'komal',\n",
       " 'Gender': 'Female'}"
      ]
     },
     "execution_count": 9,
     "metadata": {},
     "output_type": "execute_result"
    }
   ],
   "source": [
    "Employee[\"Gender\"]=\"Female\"\n",
    "Employee"
   ]
  },
  {
   "cell_type": "markdown",
   "id": "35555235",
   "metadata": {},
   "source": [
    "###Dictionary has key value pair datastructure\n",
    "###It is writtens with curly brackets/flower brackets/set brackets{}\n",
    "###value can be retrieved using the key but we cannot retrieve key from value"
   ]
  },
  {
   "cell_type": "markdown",
   "id": "f4cf40b3",
   "metadata": {},
   "source": [
    "###Name,Age,Salary,Company-->(Before :)\n",
    "###Komal,30,32000,Synechron-->(After :)"
   ]
  }
 ],
 "metadata": {
  "kernelspec": {
   "display_name": "Python 3 (ipykernel)",
   "language": "python",
   "name": "python3"
  },
  "language_info": {
   "codemirror_mode": {
    "name": "ipython",
    "version": 3
   },
   "file_extension": ".py",
   "mimetype": "text/x-python",
   "name": "python",
   "nbconvert_exporter": "python",
   "pygments_lexer": "ipython3",
   "version": "3.11.5"
  }
 },
 "nbformat": 4,
 "nbformat_minor": 5
}
